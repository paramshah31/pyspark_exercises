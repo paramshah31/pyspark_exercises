{
  "cells": [
    {
      "cell_type": "markdown",
      "metadata": {
        "id": "view-in-github",
        "colab_type": "text"
      },
      "source": [
        "<a href=\"https://colab.research.google.com/github/paramshah31/pyspark_exercises/blob/master/02_Filtering_%26_Sorting/Euro12/Exercises.ipynb\" target=\"_parent\"><img src=\"https://colab.research.google.com/assets/colab-badge.svg\" alt=\"Open In Colab\"/></a>"
      ]
    },
    {
      "cell_type": "markdown",
      "metadata": {
        "id": "0spzOpiuoiP5"
      },
      "source": [
        "# Ex2 - Filtering and Sorting Data"
      ]
    },
    {
      "cell_type": "markdown",
      "metadata": {
        "id": "EIchHqmWoiP6"
      },
      "source": [
        "This time we are going to pull data directly from the internet.\n",
        "\n",
        "### Step 1. Import the necessary libraries"
      ]
    },
    {
      "cell_type": "code",
      "execution_count": 1,
      "metadata": {
        "id": "_elR-RXJoiP6"
      },
      "outputs": [],
      "source": [
        "from pyspark.sql import SparkSession\n",
        "from pyspark.sql import functions as F"
      ]
    },
    {
      "cell_type": "markdown",
      "metadata": {
        "id": "uIavhub9oiP6"
      },
      "source": [
        "### Step 2. Import the dataset from this [address](https://raw.githubusercontent.com/guipsamora/pandas_exercises/master/02_Filtering_%26_Sorting/Euro12/Euro_2012_stats_TEAM.csv)."
      ]
    },
    {
      "cell_type": "code",
      "source": [
        "raw_data_url = 'https://raw.githubusercontent.com/guipsamora/pandas_exercises/master/02_Filtering_%26_Sorting/Euro12/Euro_2012_stats_TEAM.csv'\n",
        "import requests\n",
        "\n",
        "response = requests.get(raw_data_url)\n",
        "with open('Euro_2012_stats_TEAM.csv', 'wb') as f:\n",
        "  f.write(response.content)\n",
        "\n",
        "spark = SparkSession.builder.appName('02_Filtering_&_Sorting/Euro12').getOrCreate()\n",
        "euro12 = spark.read.csv('Euro_2012_stats_TEAM.csv', header=True, inferSchema=True)"
      ],
      "metadata": {
        "id": "p3Ccv0gAotLm"
      },
      "execution_count": 2,
      "outputs": []
    },
    {
      "cell_type": "markdown",
      "metadata": {
        "id": "XSkxZOeYoiP7"
      },
      "source": [
        "### Step 3. Assign it to a variable called euro12."
      ]
    },
    {
      "cell_type": "code",
      "execution_count": 3,
      "metadata": {
        "colab": {
          "base_uri": "https://localhost:8080/"
        },
        "id": "_gR7UnGEoiP7",
        "outputId": "fcf014fe-9bc0-4ee6-a5d8-82a7817f3706"
      },
      "outputs": [
        {
          "output_type": "stream",
          "name": "stdout",
          "text": [
            "root\n",
            " |-- Team: string (nullable = true)\n",
            " |-- Goals: integer (nullable = true)\n",
            " |-- Shots on target: integer (nullable = true)\n",
            " |-- Shots off target: integer (nullable = true)\n",
            " |-- Shooting Accuracy: string (nullable = true)\n",
            " |-- % Goals-to-shots: string (nullable = true)\n",
            " |-- Total shots (inc. Blocked): integer (nullable = true)\n",
            " |-- Hit Woodwork: integer (nullable = true)\n",
            " |-- Penalty goals: integer (nullable = true)\n",
            " |-- Penalties not scored: integer (nullable = true)\n",
            " |-- Headed goals: integer (nullable = true)\n",
            " |-- Passes: integer (nullable = true)\n",
            " |-- Passes completed: integer (nullable = true)\n",
            " |-- Passing Accuracy: string (nullable = true)\n",
            " |-- Touches: integer (nullable = true)\n",
            " |-- Crosses: integer (nullable = true)\n",
            " |-- Dribbles: integer (nullable = true)\n",
            " |-- Corners Taken: integer (nullable = true)\n",
            " |-- Tackles: integer (nullable = true)\n",
            " |-- Clearances: integer (nullable = true)\n",
            " |-- Interceptions: integer (nullable = true)\n",
            " |-- Clearances off line: integer (nullable = true)\n",
            " |-- Clean Sheets: integer (nullable = true)\n",
            " |-- Blocks: integer (nullable = true)\n",
            " |-- Goals conceded: integer (nullable = true)\n",
            " |-- Saves made: integer (nullable = true)\n",
            " |-- Saves-to-shots ratio: string (nullable = true)\n",
            " |-- Fouls Won: integer (nullable = true)\n",
            " |-- Fouls Conceded: integer (nullable = true)\n",
            " |-- Offsides: integer (nullable = true)\n",
            " |-- Yellow Cards: integer (nullable = true)\n",
            " |-- Red Cards: integer (nullable = true)\n",
            " |-- Subs on: integer (nullable = true)\n",
            " |-- Subs off: integer (nullable = true)\n",
            " |-- Players Used: integer (nullable = true)\n",
            "\n"
          ]
        }
      ],
      "source": [
        "euro12.printSchema()"
      ]
    },
    {
      "cell_type": "code",
      "source": [
        "euro12.show()"
      ],
      "metadata": {
        "colab": {
          "base_uri": "https://localhost:8080/"
        },
        "id": "H8Xn7A93pdGI",
        "outputId": "cd5bb49d-7626-499b-c9a9-bbd6934323b0"
      },
      "execution_count": 6,
      "outputs": [
        {
          "output_type": "stream",
          "name": "stdout",
          "text": [
            "+-------------------+-----+---------------+----------------+-----------------+----------------+--------------------------+------------+-------------+--------------------+------------+------+----------------+----------------+-------+-------+--------+-------------+-------+----------+-------------+-------------------+------------+------+--------------+----------+--------------------+---------+--------------+--------+------------+---------+-------+--------+------------+\n",
            "|               Team|Goals|Shots on target|Shots off target|Shooting Accuracy|% Goals-to-shots|Total shots (inc. Blocked)|Hit Woodwork|Penalty goals|Penalties not scored|Headed goals|Passes|Passes completed|Passing Accuracy|Touches|Crosses|Dribbles|Corners Taken|Tackles|Clearances|Interceptions|Clearances off line|Clean Sheets|Blocks|Goals conceded|Saves made|Saves-to-shots ratio|Fouls Won|Fouls Conceded|Offsides|Yellow Cards|Red Cards|Subs on|Subs off|Players Used|\n",
            "+-------------------+-----+---------------+----------------+-----------------+----------------+--------------------------+------------+-------------+--------------------+------------+------+----------------+----------------+-------+-------+--------+-------------+-------+----------+-------------+-------------------+------------+------+--------------+----------+--------------------+---------+--------------+--------+------------+---------+-------+--------+------------+\n",
            "|            Croatia|    4|             13|              12|            51.9%|           16.0%|                        32|           0|            0|                   0|           2|  1076|             828|           76.9%|   1706|     60|      42|           14|     49|        83|           56|               NULL|           0|    10|             3|        13|               81.3%|       41|            62|       2|           9|        0|      9|       9|          16|\n",
            "|     Czech Republic|    4|             13|              18|            41.9%|           12.9%|                        39|           0|            0|                   0|           0|  1565|            1223|           78.1%|   2358|     46|      68|           21|     62|        98|           37|                  2|           1|    10|             6|         9|               60.1%|       53|            73|       8|           7|        0|     11|      11|          19|\n",
            "|            Denmark|    4|             10|              10|            50.0%|           20.0%|                        27|           1|            0|                   0|           3|  1298|            1082|           83.3%|   1873|     43|      32|           16|     40|        61|           59|                  0|           1|    10|             5|        10|               66.7%|       25|            38|       8|           4|        0|      7|       7|          15|\n",
            "|            England|    5|             11|              18|            50.0%|           17.2%|                        40|           0|            0|                   0|           3|  1488|            1200|           80.6%|   2440|     58|      60|           16|     86|       106|           72|                  1|           2|    29|             3|        22|               88.1%|       43|            45|       6|           5|        0|     11|      11|          16|\n",
            "|             France|    3|             22|              24|            37.9%|            6.5%|                        65|           1|            0|                   0|           0|  2066|            1803|           87.2%|   2909|     55|      76|           28|     71|        76|           58|                  0|           1|     7|             5|         6|               54.6%|       36|            51|       5|           6|        0|     11|      11|          19|\n",
            "|            Germany|   10|             32|              32|            47.8%|           15.6%|                        80|           2|            1|                   0|           2|  2774|            2427|           87.4%|   3761|    101|      60|           35|     91|        73|           69|                  0|           1|    11|             6|        10|               62.6%|       63|            49|      12|           4|        0|     15|      15|          17|\n",
            "|             Greece|    5|              8|              18|            30.7%|           19.2%|                        32|           1|            1|                   1|           0|  1187|             911|           76.7%|   2016|     52|      53|           10|     65|       123|           87|                  0|           1|    23|             7|        13|               65.1%|       67|            48|      12|           9|        1|     12|      12|          20|\n",
            "|              Italy|    6|             34|              45|            43.0%|            7.5%|                       110|           2|            0|                   0|           2|  3016|            2531|           83.9%|   4363|     75|      75|           30|     98|       137|          136|                  1|           2|    18|             7|        20|               74.1%|      101|            89|      16|          16|        0|     18|      18|          19|\n",
            "|        Netherlands|    2|             12|              36|            25.0%|            4.1%|                        60|           2|            0|                   0|           0|  1556|            1381|           88.7%|   2163|     50|      49|           22|     34|        41|           41|                  0|           0|     9|             5|        12|               70.6%|       35|            30|       3|           5|        0|      7|       7|          15|\n",
            "|             Poland|    2|             15|              23|            39.4%|            5.2%|                        48|           0|            0|                   0|           1|  1059|             852|           80.4%|   1724|     55|      39|           14|     67|        87|           62|                  0|           0|     8|             3|         6|               66.7%|       48|            56|       3|           7|        1|      7|       7|          17|\n",
            "|           Portugal|    6|             22|              42|            34.3%|            9.3%|                        82|           6|            0|                   0|           2|  1891|            1461|           77.2%|   2958|     91|      64|           41|     78|        92|           86|                  0|           2|    11|             4|        10|               71.5%|       73|            90|      10|          12|        0|     14|      14|          16|\n",
            "|Republic of Ireland|    1|              7|              12|            36.8%|            5.2%|                        28|           0|            0|                   0|           1|   851|             606|           71.2%|   1433|     43|      18|            8|     45|        78|           43|                  1|           0|    23|             9|        17|               65.4%|       43|            51|      11|           6|        1|     10|      10|          17|\n",
            "|             Russia|    5|              9|              31|            22.5%|           12.5%|                        59|           2|            0|                   0|           1|  1602|            1345|           83.9%|   2278|     40|      40|           21|     65|        74|           58|                  0|           0|     8|             3|        10|               77.0%|       34|            43|       4|           6|        0|      7|       7|          16|\n",
            "|              Spain|   12|             42|              33|            55.9%|           16.0%|                       100|           0|            1|                   0|           2|  4317|            3820|           88.4%|   5585|     69|     106|           44|    122|       102|           79|                  0|           5|     8|             1|        15|               93.8%|      102|            83|      19|          11|        0|     17|      17|          18|\n",
            "|             Sweden|    5|             17|              19|            47.2%|           13.8%|                        39|           3|            0|                   0|           1|  1192|             965|           80.9%|   1806|     44|      29|            7|     56|        54|           45|                  0|           1|    12|             5|         8|               61.6%|       35|            51|       7|           7|        0|      9|       9|          18|\n",
            "|            Ukraine|    2|              7|              26|            21.2%|            6.0%|                        38|           0|            0|                   0|           2|  1276|            1043|           81.7%|   1894|     33|      26|           18|     65|        97|           29|                  0|           0|     4|             4|        13|               76.5%|       48|            31|       4|           5|        0|      9|       9|          18|\n",
            "+-------------------+-----+---------------+----------------+-----------------+----------------+--------------------------+------------+-------------+--------------------+------------+------+----------------+----------------+-------+-------+--------+-------------+-------+----------+-------------+-------------------+------------+------+--------------+----------+--------------------+---------+--------------+--------+------------+---------+-------+--------+------------+\n",
            "\n"
          ]
        }
      ]
    },
    {
      "cell_type": "markdown",
      "metadata": {
        "id": "zyiNUE7poiP7"
      },
      "source": [
        "### Step 4. Select only the Goal column."
      ]
    },
    {
      "cell_type": "code",
      "execution_count": 4,
      "metadata": {
        "colab": {
          "base_uri": "https://localhost:8080/"
        },
        "id": "_Rv6k7YqoiP7",
        "outputId": "5ab2b03f-6041-4062-e199-ba9b6e163818"
      },
      "outputs": [
        {
          "output_type": "stream",
          "name": "stdout",
          "text": [
            "+-----+\n",
            "|Goals|\n",
            "+-----+\n",
            "|    4|\n",
            "|    4|\n",
            "|    4|\n",
            "|    5|\n",
            "|    3|\n",
            "|   10|\n",
            "|    5|\n",
            "|    6|\n",
            "|    2|\n",
            "|    2|\n",
            "|    6|\n",
            "|    1|\n",
            "|    5|\n",
            "|   12|\n",
            "|    5|\n",
            "|    2|\n",
            "+-----+\n",
            "\n"
          ]
        }
      ],
      "source": [
        "euro12.select('Goals').show()"
      ]
    },
    {
      "cell_type": "markdown",
      "metadata": {
        "id": "sghGlwYpoiP7"
      },
      "source": [
        "### Step 5. How many team participated in the Euro2012?"
      ]
    },
    {
      "cell_type": "code",
      "execution_count": 7,
      "metadata": {
        "colab": {
          "base_uri": "https://localhost:8080/"
        },
        "id": "_WvokuU4oiP7",
        "outputId": "75b18525-c1b3-42bb-d7a6-c6b3cd4a39f0"
      },
      "outputs": [
        {
          "output_type": "execute_result",
          "data": {
            "text/plain": [
              "16"
            ]
          },
          "metadata": {},
          "execution_count": 7
        }
      ],
      "source": [
        "euro12.select('Team').distinct().count()"
      ]
    },
    {
      "cell_type": "markdown",
      "metadata": {
        "id": "IbNnw5aKoiP8"
      },
      "source": [
        "### Step 6. What is the number of columns in the dataset?"
      ]
    },
    {
      "cell_type": "code",
      "execution_count": 9,
      "metadata": {
        "colab": {
          "base_uri": "https://localhost:8080/"
        },
        "id": "6ZcMe3f3oiP8",
        "outputId": "53860aa7-01e3-4b00-a0b9-d3f3bcf9d51d"
      },
      "outputs": [
        {
          "output_type": "execute_result",
          "data": {
            "text/plain": [
              "35"
            ]
          },
          "metadata": {},
          "execution_count": 9
        }
      ],
      "source": [
        "len(euro12.columns)"
      ]
    },
    {
      "cell_type": "markdown",
      "metadata": {
        "id": "JUZYMAWYoiP8"
      },
      "source": [
        "### Step 7. View only the columns Team, Yellow Cards and Red Cards and assign them to a dataframe called discipline"
      ]
    },
    {
      "cell_type": "code",
      "execution_count": 10,
      "metadata": {
        "colab": {
          "base_uri": "https://localhost:8080/"
        },
        "id": "Yx0gMZVgoiP8",
        "outputId": "d7fe196c-b608-437f-a66c-91d5c6f82adf"
      },
      "outputs": [
        {
          "output_type": "stream",
          "name": "stdout",
          "text": [
            "+-------------------+------------+---------+\n",
            "|               Team|Yellow Cards|Red Cards|\n",
            "+-------------------+------------+---------+\n",
            "|            Croatia|           9|        0|\n",
            "|     Czech Republic|           7|        0|\n",
            "|            Denmark|           4|        0|\n",
            "|            England|           5|        0|\n",
            "|             France|           6|        0|\n",
            "|            Germany|           4|        0|\n",
            "|             Greece|           9|        1|\n",
            "|              Italy|          16|        0|\n",
            "|        Netherlands|           5|        0|\n",
            "|             Poland|           7|        1|\n",
            "|           Portugal|          12|        0|\n",
            "|Republic of Ireland|           6|        1|\n",
            "|             Russia|           6|        0|\n",
            "|              Spain|          11|        0|\n",
            "|             Sweden|           7|        0|\n",
            "|            Ukraine|           5|        0|\n",
            "+-------------------+------------+---------+\n",
            "\n"
          ]
        }
      ],
      "source": [
        "discipline = euro12.select('Team', 'Yellow Cards', 'Red Cards')\n",
        "discipline.show()"
      ]
    },
    {
      "cell_type": "markdown",
      "metadata": {
        "id": "1ZqtvYQAoiP8"
      },
      "source": [
        "### Step 8. Sort the teams by Red Cards, then to Yellow Cards"
      ]
    },
    {
      "cell_type": "code",
      "execution_count": 11,
      "metadata": {
        "scrolled": true,
        "colab": {
          "base_uri": "https://localhost:8080/"
        },
        "id": "Xe6Sr6yjoiP8",
        "outputId": "f3aaf9d3-d289-45da-9b95-3c1770cd3735"
      },
      "outputs": [
        {
          "output_type": "stream",
          "name": "stdout",
          "text": [
            "+-------------------+------------+---------+\n",
            "|               Team|Yellow Cards|Red Cards|\n",
            "+-------------------+------------+---------+\n",
            "|            Denmark|           4|        0|\n",
            "|            Germany|           4|        0|\n",
            "|            England|           5|        0|\n",
            "|        Netherlands|           5|        0|\n",
            "|            Ukraine|           5|        0|\n",
            "|             France|           6|        0|\n",
            "|             Russia|           6|        0|\n",
            "|     Czech Republic|           7|        0|\n",
            "|             Sweden|           7|        0|\n",
            "|            Croatia|           9|        0|\n",
            "|              Spain|          11|        0|\n",
            "|           Portugal|          12|        0|\n",
            "|              Italy|          16|        0|\n",
            "|Republic of Ireland|           6|        1|\n",
            "|             Poland|           7|        1|\n",
            "|             Greece|           9|        1|\n",
            "+-------------------+------------+---------+\n",
            "\n"
          ]
        }
      ],
      "source": [
        "discipline.sort('Red Cards', 'Yellow Cards').show()"
      ]
    },
    {
      "cell_type": "markdown",
      "metadata": {
        "id": "k8LCfEBZoiP8"
      },
      "source": [
        "### Step 9. Calculate the mean Yellow Cards given per Team"
      ]
    },
    {
      "cell_type": "code",
      "execution_count": 12,
      "metadata": {
        "colab": {
          "base_uri": "https://localhost:8080/"
        },
        "id": "ehGaCtbloiP8",
        "outputId": "16705faf-3d68-4ddd-a832-4bea8bbbf658"
      },
      "outputs": [
        {
          "output_type": "stream",
          "name": "stdout",
          "text": [
            "+-------------------+-----------------+\n",
            "|               Team|avg(Yellow Cards)|\n",
            "+-------------------+-----------------+\n",
            "|             Russia|              6.0|\n",
            "|             Sweden|              7.0|\n",
            "|            Germany|              4.0|\n",
            "|             France|              6.0|\n",
            "|             Greece|              9.0|\n",
            "|            Croatia|              9.0|\n",
            "|              Italy|             16.0|\n",
            "|              Spain|             11.0|\n",
            "|            Denmark|              4.0|\n",
            "|            Ukraine|              5.0|\n",
            "|     Czech Republic|              7.0|\n",
            "|Republic of Ireland|              6.0|\n",
            "|            England|              5.0|\n",
            "|             Poland|              7.0|\n",
            "|           Portugal|             12.0|\n",
            "|        Netherlands|              5.0|\n",
            "+-------------------+-----------------+\n",
            "\n"
          ]
        }
      ],
      "source": [
        "discipline.groupBy('Team').agg({'Yellow Cards':'mean'}).show()"
      ]
    },
    {
      "cell_type": "markdown",
      "metadata": {
        "id": "ujtXEx2yoiP8"
      },
      "source": [
        "### Step 10. Filter teams that scored more than 6 goals"
      ]
    },
    {
      "cell_type": "code",
      "execution_count": 14,
      "metadata": {
        "colab": {
          "base_uri": "https://localhost:8080/"
        },
        "id": "5U2Ojl3VoiP9",
        "outputId": "9d6b0c2e-b925-446a-b764-bd85f3fe2782"
      },
      "outputs": [
        {
          "output_type": "stream",
          "name": "stdout",
          "text": [
            "+-------+\n",
            "|   Team|\n",
            "+-------+\n",
            "|Germany|\n",
            "|  Spain|\n",
            "+-------+\n",
            "\n"
          ]
        }
      ],
      "source": [
        "euro12.filter('Goals > 6').select('Team').show()"
      ]
    },
    {
      "cell_type": "markdown",
      "metadata": {
        "id": "eOo5Cu_BoiP9"
      },
      "source": [
        "### Step 11. Select the teams that start with G"
      ]
    },
    {
      "cell_type": "code",
      "execution_count": 15,
      "metadata": {
        "colab": {
          "base_uri": "https://localhost:8080/"
        },
        "id": "0JBIbQBIoiP9",
        "outputId": "0d7c9543-e6a2-4bfe-f993-374aacce8d8b"
      },
      "outputs": [
        {
          "output_type": "stream",
          "name": "stdout",
          "text": [
            "+-------+\n",
            "|   Team|\n",
            "+-------+\n",
            "|Germany|\n",
            "| Greece|\n",
            "+-------+\n",
            "\n"
          ]
        }
      ],
      "source": [
        "euro12.filter(\"Team like 'G%'\").select('Team').show()"
      ]
    },
    {
      "cell_type": "markdown",
      "metadata": {
        "id": "VwLlPXogoiP9"
      },
      "source": [
        "### Step 12. Select the first 7 columns"
      ]
    },
    {
      "cell_type": "code",
      "source": [
        "euro12.columns[:7]"
      ],
      "metadata": {
        "id": "TsMuK9vPrIVa",
        "outputId": "13168e9b-32d9-416b-dc91-c36fff690eb0",
        "colab": {
          "base_uri": "https://localhost:8080/"
        }
      },
      "execution_count": 19,
      "outputs": [
        {
          "output_type": "execute_result",
          "data": {
            "text/plain": [
              "['Team',\n",
              " 'Goals',\n",
              " 'Shots on target',\n",
              " 'Shots off target',\n",
              " 'Shooting Accuracy',\n",
              " '% Goals-to-shots',\n",
              " 'Total shots (inc. Blocked)']"
            ]
          },
          "metadata": {},
          "execution_count": 19
        }
      ]
    },
    {
      "cell_type": "markdown",
      "metadata": {
        "id": "syiZwpKxoiP9"
      },
      "source": [
        "### Step 13. Select all columns except the last 3."
      ]
    },
    {
      "cell_type": "code",
      "execution_count": 20,
      "metadata": {
        "colab": {
          "base_uri": "https://localhost:8080/"
        },
        "id": "gro6LhZqoiP9",
        "outputId": "4a864944-19dd-46f3-9efa-dcc9c7847f54"
      },
      "outputs": [
        {
          "output_type": "execute_result",
          "data": {
            "text/plain": [
              "['Team',\n",
              " 'Goals',\n",
              " 'Shots on target',\n",
              " 'Shots off target',\n",
              " 'Shooting Accuracy',\n",
              " '% Goals-to-shots',\n",
              " 'Total shots (inc. Blocked)',\n",
              " 'Hit Woodwork',\n",
              " 'Penalty goals',\n",
              " 'Penalties not scored',\n",
              " 'Headed goals',\n",
              " 'Passes',\n",
              " 'Passes completed',\n",
              " 'Passing Accuracy',\n",
              " 'Touches',\n",
              " 'Crosses',\n",
              " 'Dribbles',\n",
              " 'Corners Taken',\n",
              " 'Tackles',\n",
              " 'Clearances',\n",
              " 'Interceptions',\n",
              " 'Clearances off line',\n",
              " 'Clean Sheets',\n",
              " 'Blocks',\n",
              " 'Goals conceded',\n",
              " 'Saves made',\n",
              " 'Saves-to-shots ratio',\n",
              " 'Fouls Won',\n",
              " 'Fouls Conceded',\n",
              " 'Offsides',\n",
              " 'Yellow Cards',\n",
              " 'Red Cards']"
            ]
          },
          "metadata": {},
          "execution_count": 20
        }
      ],
      "source": [
        "euro12.columns[:-3]"
      ]
    },
    {
      "cell_type": "markdown",
      "metadata": {
        "id": "JPbX3ESVoiP9"
      },
      "source": [
        "### Step 14. Present only the Shooting Accuracy from England, Italy and Russia"
      ]
    },
    {
      "cell_type": "code",
      "execution_count": 21,
      "metadata": {
        "colab": {
          "base_uri": "https://localhost:8080/"
        },
        "id": "9fpDUWqCoiP9",
        "outputId": "5bafb6cc-b160-43c1-9b8f-08e917e55db4"
      },
      "outputs": [
        {
          "output_type": "stream",
          "name": "stdout",
          "text": [
            "+-------+-----------------+\n",
            "|   Team|Shooting Accuracy|\n",
            "+-------+-----------------+\n",
            "|England|            50.0%|\n",
            "|  Italy|            43.0%|\n",
            "| Russia|            22.5%|\n",
            "+-------+-----------------+\n",
            "\n"
          ]
        }
      ],
      "source": [
        "euro12.select('Team', 'Shooting Accuracy').filter(\"Team in ('England', 'Italy', 'Russia')\").show()"
      ]
    }
  ],
  "metadata": {
    "anaconda-cloud": {},
    "kernelspec": {
      "display_name": "Python [default]",
      "language": "python",
      "name": "python2"
    },
    "language_info": {
      "codemirror_mode": {
        "name": "ipython",
        "version": 2
      },
      "file_extension": ".py",
      "mimetype": "text/x-python",
      "name": "python",
      "nbconvert_exporter": "python",
      "pygments_lexer": "ipython2",
      "version": "2.7.12"
    },
    "colab": {
      "provenance": [],
      "include_colab_link": true
    }
  },
  "nbformat": 4,
  "nbformat_minor": 0
}