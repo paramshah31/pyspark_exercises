{
  "cells": [
    {
      "cell_type": "markdown",
      "metadata": {
        "id": "plBg_cFugHAJ"
      },
      "source": [
        "# Ex1 - Filtering and Sorting Data"
      ]
    },
    {
      "cell_type": "markdown",
      "metadata": {
        "id": "hYx4cwf-gHAK"
      },
      "source": [
        "This time we are going to pull data directly from the internet.\n",
        "Special thanks to: https://github.com/justmarkham for sharing the dataset and materials.\n",
        "\n",
        "### Step 1. Import the necessary libraries"
      ]
    },
    {
      "cell_type": "code",
      "execution_count": 1,
      "metadata": {
        "id": "VOxgiyV8gHAL"
      },
      "outputs": [],
      "source": [
        "from pyspark.sql import SparkSession\n",
        "from pyspark.sql import functions as F\n",
        "from pyspark.sql.types import IntegerType, StringType"
      ]
    },
    {
      "cell_type": "markdown",
      "metadata": {
        "id": "_989JE_TgHAL"
      },
      "source": [
        "### Step 2. Import the dataset from this [address](https://raw.githubusercontent.com/justmarkham/DAT8/master/data/chipotle.tsv)."
      ]
    },
    {
      "cell_type": "markdown",
      "metadata": {
        "id": "4Pdkhf7BgHAL"
      },
      "source": [
        "### Step 3. Assign it to a variable called chipo."
      ]
    },
    {
      "cell_type": "code",
      "execution_count": 2,
      "metadata": {
        "id": "NUxxnF2HgHAL"
      },
      "outputs": [],
      "source": [
        "raw_data_url = 'https://raw.githubusercontent.com/justmarkham/DAT8/master/data/chipotle.tsv'\n",
        "import requests\n",
        "\n",
        "response = requests.get(raw_data_url)\n",
        "with open('chipotle.tsv', 'wb') as f:\n",
        "  f.write(response.content)\n",
        "\n",
        "spark = SparkSession.builder.appName('02_Filtering_&_Sorting/Chipotle').getOrCreate()\n",
        "chipo = spark.read.csv('chipotle.tsv', sep='\\t', header=True, inferSchema=True)"
      ]
    },
    {
      "cell_type": "code",
      "source": [
        "chipo.show(10)"
      ],
      "metadata": {
        "colab": {
          "base_uri": "https://localhost:8080/"
        },
        "id": "5ArMxxp3hOW1",
        "outputId": "b98b1ed9-74bd-4dab-855c-26e40499a1aa"
      },
      "execution_count": 4,
      "outputs": [
        {
          "output_type": "stream",
          "name": "stdout",
          "text": [
            "+--------+--------+--------------------+--------------------+----------+\n",
            "|order_id|quantity|           item_name|  choice_description|item_price|\n",
            "+--------+--------+--------------------+--------------------+----------+\n",
            "|       1|       1|Chips and Fresh T...|                NULL|    $2.39 |\n",
            "|       1|       1|                Izze|        [Clementine]|    $3.39 |\n",
            "|       1|       1|    Nantucket Nectar|             [Apple]|    $3.39 |\n",
            "|       1|       1|Chips and Tomatil...|                NULL|    $2.39 |\n",
            "|       2|       2|        Chicken Bowl|[Tomatillo-Red Ch...|   $16.98 |\n",
            "|       3|       1|        Chicken Bowl|[Fresh Tomato Sal...|   $10.98 |\n",
            "|       3|       1|       Side of Chips|                NULL|    $1.69 |\n",
            "|       4|       1|       Steak Burrito|[Tomatillo Red Ch...|   $11.75 |\n",
            "|       4|       1|    Steak Soft Tacos|[Tomatillo Green ...|    $9.25 |\n",
            "|       5|       1|       Steak Burrito|[Fresh Tomato Sal...|    $9.25 |\n",
            "+--------+--------+--------------------+--------------------+----------+\n",
            "only showing top 10 rows\n",
            "\n"
          ]
        }
      ]
    },
    {
      "cell_type": "code",
      "source": [
        "chipo.printSchema()"
      ],
      "metadata": {
        "colab": {
          "base_uri": "https://localhost:8080/"
        },
        "id": "3ULYlT8vhVgD",
        "outputId": "8a107ba9-9a18-4e31-f7ab-f1739d963f88"
      },
      "execution_count": 8,
      "outputs": [
        {
          "output_type": "stream",
          "name": "stdout",
          "text": [
            "root\n",
            " |-- order_id: integer (nullable = true)\n",
            " |-- quantity: integer (nullable = true)\n",
            " |-- item_name: string (nullable = true)\n",
            " |-- choice_description: string (nullable = true)\n",
            " |-- item_price: string (nullable = true)\n",
            "\n"
          ]
        }
      ]
    },
    {
      "cell_type": "markdown",
      "metadata": {
        "id": "5zIs6ChVgHAL"
      },
      "source": [
        "### Step 4. How many products cost more than $10.00?"
      ]
    },
    {
      "cell_type": "markdown",
      "source": [],
      "metadata": {
        "id": "HueWwTb6iNNZ"
      }
    },
    {
      "cell_type": "code",
      "execution_count": 10,
      "metadata": {
        "colab": {
          "base_uri": "https://localhost:8080/"
        },
        "id": "yR5m9QEkgHAL",
        "outputId": "6accb6eb-5bf9-4a01-e061-9c54fe31fceb"
      },
      "outputs": [
        {
          "output_type": "stream",
          "name": "stdout",
          "text": [
            "+--------+--------+------------------+--------------------+----------+------------------+\n",
            "|order_id|quantity|         item_name|  choice_description|item_price|item_price_numeric|\n",
            "+--------+--------+------------------+--------------------+----------+------------------+\n",
            "|       2|       2|      Chicken Bowl|[Tomatillo-Red Ch...|   $16.98 |             16.98|\n",
            "|       3|       1|      Chicken Bowl|[Fresh Tomato Sal...|   $10.98 |             10.98|\n",
            "|       4|       1|     Steak Burrito|[Tomatillo Red Ch...|   $11.75 |             11.75|\n",
            "|       7|       1|      Chicken Bowl|[Fresh Tomato Sal...|   $11.25 |             11.25|\n",
            "|      12|       1|   Chicken Burrito|[[Tomatillo-Green...|   $10.98 |             10.98|\n",
            "|      19|       1|     Barbacoa Bowl|[Roasted Chili Co...|   $11.75 |             11.75|\n",
            "|      20|       1|      Chicken Bowl|[Roasted Chili Co...|   $11.25 |             11.25|\n",
            "|      20|       1|     Steak Burrito|[Fresh Tomato Sal...|   $11.75 |             11.75|\n",
            "|      21|       1|   Chicken Burrito|[Tomatillo-Red Ch...|   $10.98 |             10.98|\n",
            "|      24|       1|   Chicken Burrito|[Roasted Chili Co...|   $10.98 |             10.98|\n",
            "|      26|       1|    Veggie Burrito|[Tomatillo Red Ch...|   $11.25 |             11.25|\n",
            "|      27|       1|     Barbacoa Bowl|[Roasted Chili Co...|   $11.75 |             11.75|\n",
            "|      28|       1|       Veggie Bowl|[Fresh Tomato Sal...|   $11.25 |             11.25|\n",
            "|      30|       1|   Chicken Burrito|[Tomatillo-Red Ch...|   $10.98 |             10.98|\n",
            "|      35|       1|Chicken Soft Tacos|[Roasted Chili Co...|   $11.25 |             11.25|\n",
            "|      40|       1|        Steak Bowl|[Fresh Tomato Sal...|   $11.75 |             11.75|\n",
            "|      40|       1|        Steak Bowl|[Fresh Tomato Sal...|   $11.75 |             11.75|\n",
            "|      41|       1|  Carnitas Burrito|[Roasted Chili Co...|   $11.75 |             11.75|\n",
            "|      43|       1|     Carnitas Bowl|[Fresh Tomato Sal...|   $11.75 |             11.75|\n",
            "|      54|       1|      Chicken Bowl|[Fresh Tomato Sal...|   $11.25 |             11.25|\n",
            "+--------+--------+------------------+--------------------+----------+------------------+\n",
            "only showing top 20 rows\n",
            "\n"
          ]
        }
      ],
      "source": [
        "chipo = chipo.withColumn('item_price_numeric', F.regexp_replace(chipo['item_price'], '\\\\$', '').cast('float'))\n",
        "filtered_chipo = chipo.filter(chipo['item_price_numeric'] > 10.00)\n",
        "filtered_chipo.show()"
      ]
    },
    {
      "cell_type": "code",
      "metadata": {
        "colab": {
          "base_uri": "https://localhost:8080/"
        },
        "id": "0df7e567",
        "outputId": "a1f94f17-a3f0-42f0-bd5d-622c9e3b568f"
      },
      "source": [
        "chipo = chipo.drop('item_price')\n",
        "chipo.show(5)"
      ],
      "execution_count": 11,
      "outputs": [
        {
          "output_type": "stream",
          "name": "stdout",
          "text": [
            "+--------+--------+--------------------+--------------------+------------------+\n",
            "|order_id|quantity|           item_name|  choice_description|item_price_numeric|\n",
            "+--------+--------+--------------------+--------------------+------------------+\n",
            "|       1|       1|Chips and Fresh T...|                NULL|              2.39|\n",
            "|       1|       1|                Izze|        [Clementine]|              3.39|\n",
            "|       1|       1|    Nantucket Nectar|             [Apple]|              3.39|\n",
            "|       1|       1|Chips and Tomatil...|                NULL|              2.39|\n",
            "|       2|       2|        Chicken Bowl|[Tomatillo-Red Ch...|             16.98|\n",
            "+--------+--------+--------------------+--------------------+------------------+\n",
            "only showing top 5 rows\n",
            "\n"
          ]
        }
      ]
    },
    {
      "cell_type": "code",
      "source": [
        "chipo.filter()"
      ],
      "metadata": {
        "id": "Py0xQctzjMPG"
      },
      "execution_count": null,
      "outputs": []
    },
    {
      "cell_type": "markdown",
      "metadata": {
        "id": "nj6Q7zzZgHAM"
      },
      "source": [
        "### Step 5. What is the price of each item?\n",
        "###### print a data frame with only two columns item_name and item_price"
      ]
    },
    {
      "cell_type": "code",
      "execution_count": 12,
      "metadata": {
        "colab": {
          "base_uri": "https://localhost:8080/"
        },
        "id": "qofd05ztgHAM",
        "outputId": "7b173c1e-b770-4e68-8920-b35f16c176a4"
      },
      "outputs": [
        {
          "output_type": "stream",
          "name": "stdout",
          "text": [
            "+--------------------+------------------+\n",
            "|           item_name|item_price_numeric|\n",
            "+--------------------+------------------+\n",
            "|Chips and Fresh T...|              2.39|\n",
            "|                Izze|              3.39|\n",
            "|    Nantucket Nectar|              3.39|\n",
            "|Chips and Tomatil...|              2.39|\n",
            "|        Chicken Bowl|             16.98|\n",
            "|        Chicken Bowl|             10.98|\n",
            "|       Side of Chips|              1.69|\n",
            "|       Steak Burrito|             11.75|\n",
            "|    Steak Soft Tacos|              9.25|\n",
            "|       Steak Burrito|              9.25|\n",
            "| Chips and Guacamole|              4.45|\n",
            "|Chicken Crispy Tacos|              8.75|\n",
            "|  Chicken Soft Tacos|              8.75|\n",
            "|        Chicken Bowl|             11.25|\n",
            "| Chips and Guacamole|              4.45|\n",
            "|Chips and Tomatil...|              2.39|\n",
            "|     Chicken Burrito|              8.49|\n",
            "|     Chicken Burrito|              8.49|\n",
            "|         Canned Soda|              2.18|\n",
            "|        Chicken Bowl|              8.75|\n",
            "+--------------------+------------------+\n",
            "only showing top 20 rows\n",
            "\n"
          ]
        }
      ],
      "source": [
        "chipo.select('item_name', 'item_price_numeric').show()"
      ]
    },
    {
      "cell_type": "markdown",
      "metadata": {
        "id": "YZyeG9nUgHAM"
      },
      "source": [
        "### Step 6. Sort by the name of the item"
      ]
    },
    {
      "cell_type": "code",
      "execution_count": 13,
      "metadata": {
        "colab": {
          "base_uri": "https://localhost:8080/"
        },
        "id": "OP75UMTLgHAM",
        "outputId": "b23115bc-7651-48e6-fcca-14313861f0de"
      },
      "outputs": [
        {
          "output_type": "stream",
          "name": "stdout",
          "text": [
            "+--------+--------+-----------------+------------------+------------------+\n",
            "|order_id|quantity|        item_name|choice_description|item_price_numeric|\n",
            "+--------+--------+-----------------+------------------+------------------+\n",
            "|     511|       1|6 Pack Soft Drink|            [Coke]|              6.49|\n",
            "|    1253|       1|6 Pack Soft Drink|        [Lemonade]|              6.49|\n",
            "|     520|       1|6 Pack Soft Drink|          [Sprite]|              6.49|\n",
            "|     148|       1|6 Pack Soft Drink|       [Diet Coke]|              6.49|\n",
            "|     566|       1|6 Pack Soft Drink|       [Diet Coke]|              6.49|\n",
            "|     168|       1|6 Pack Soft Drink|       [Diet Coke]|              6.49|\n",
            "|     708|       1|6 Pack Soft Drink|            [Coke]|              6.49|\n",
            "|     230|       1|6 Pack Soft Drink|       [Diet Coke]|              6.49|\n",
            "|     709|       1|6 Pack Soft Drink|       [Diet Coke]|              6.49|\n",
            "|     298|       1|6 Pack Soft Drink|          [Nestea]|              6.49|\n",
            "|     749|       1|6 Pack Soft Drink|            [Coke]|              6.49|\n",
            "|     363|       1|6 Pack Soft Drink|            [Coke]|              6.49|\n",
            "|     754|       1|6 Pack Soft Drink|       [Diet Coke]|              6.49|\n",
            "|     432|       1|6 Pack Soft Drink|            [Coke]|              6.49|\n",
            "|     774|       1|6 Pack Soft Drink|       [Diet Coke]|              6.49|\n",
            "|     481|       1|6 Pack Soft Drink|            [Coke]|              6.49|\n",
            "|     776|       1|6 Pack Soft Drink|            [Coke]|              6.49|\n",
            "|     849|       1|6 Pack Soft Drink|            [Coke]|              6.49|\n",
            "|    1248|       1|6 Pack Soft Drink|       [Diet Coke]|              6.49|\n",
            "|     899|       1|6 Pack Soft Drink|            [Coke]|              6.49|\n",
            "+--------+--------+-----------------+------------------+------------------+\n",
            "only showing top 20 rows\n",
            "\n"
          ]
        }
      ],
      "source": [
        "chipo.orderBy('item_name').show()"
      ]
    },
    {
      "cell_type": "markdown",
      "metadata": {
        "id": "RaJYbgk_gHAM"
      },
      "source": [
        "### Step 7. What was the quantity of the most expensive item ordered?"
      ]
    },
    {
      "cell_type": "code",
      "execution_count": 23,
      "metadata": {
        "colab": {
          "base_uri": "https://localhost:8080/"
        },
        "id": "rc4tsaTxgHAM",
        "outputId": "c63a4241-b821-4df4-acee-7529d72e356e"
      },
      "outputs": [
        {
          "output_type": "stream",
          "name": "stdout",
          "text": [
            "+--------+--------+--------------------+------------------+------------------+\n",
            "|order_id|quantity|           item_name|choice_description|item_price_numeric|\n",
            "+--------+--------+--------------------+------------------+------------------+\n",
            "|    1443|      15|Chips and Fresh T...|              NULL|             44.25|\n",
            "+--------+--------+--------------------+------------------+------------------+\n",
            "only showing top 1 row\n",
            "\n"
          ]
        }
      ],
      "source": [
        "chipo.orderBy('item_price_numeric', ascending=False).show(1)"
      ]
    },
    {
      "cell_type": "markdown",
      "metadata": {
        "id": "UTf4cTKygHAM"
      },
      "source": [
        "### Step 8. How many times was a Veggie Salad Bowl ordered?"
      ]
    },
    {
      "cell_type": "code",
      "execution_count": 26,
      "metadata": {
        "colab": {
          "base_uri": "https://localhost:8080/"
        },
        "id": "21ssAMDVgHAM",
        "outputId": "7735e5b7-f410-4816-b5d6-5602f44c41d6"
      },
      "outputs": [
        {
          "output_type": "stream",
          "name": "stdout",
          "text": [
            "+-----------------+-----+\n",
            "|        item_name|count|\n",
            "+-----------------+-----+\n",
            "|Veggie Salad Bowl|   18|\n",
            "+-----------------+-----+\n",
            "\n"
          ]
        }
      ],
      "source": [
        "chipo.groupBy('item_name').count().filter(\"item_name == 'Veggie Salad Bowl'\").show()"
      ]
    },
    {
      "cell_type": "markdown",
      "metadata": {
        "id": "oVeO9PgNgHAM"
      },
      "source": [
        "### Step 9. How many times did someone order more than one Canned Soda?"
      ]
    },
    {
      "cell_type": "code",
      "execution_count": 27,
      "metadata": {
        "colab": {
          "base_uri": "https://localhost:8080/"
        },
        "id": "Ml_shpe_gHAN",
        "outputId": "34e8682a-0e04-4874-c3a3-00d1bf90b1b4"
      },
      "outputs": [
        {
          "output_type": "execute_result",
          "data": {
            "text/plain": [
              "20"
            ]
          },
          "metadata": {},
          "execution_count": 27
        }
      ],
      "source": [
        "chipo.filter(\"item_name == 'Canned Soda'\").filter(\"quantity > 1\").count()"
      ]
    }
  ],
  "metadata": {
    "kernelspec": {
      "display_name": "Python 2",
      "language": "python",
      "name": "python2"
    },
    "language_info": {
      "codemirror_mode": {
        "name": "ipython",
        "version": 2
      },
      "file_extension": ".py",
      "mimetype": "text/x-python",
      "name": "python",
      "nbconvert_exporter": "python",
      "pygments_lexer": "ipython2",
      "version": "2.7.11"
    },
    "colab": {
      "provenance": []
    }
  },
  "nbformat": 4,
  "nbformat_minor": 0
}