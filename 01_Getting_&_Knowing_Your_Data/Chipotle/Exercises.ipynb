{
  "cells": [
    {
      "cell_type": "markdown",
      "metadata": {
        "id": "lmqYshfkhCud"
      },
      "source": [
        "# Ex2 - Getting and Knowing your Data"
      ]
    },
    {
      "cell_type": "markdown",
      "metadata": {
        "id": "Gzd1i6nphCug"
      },
      "source": [
        "This time we are going to pull data directly from the internet.\n",
        "Special thanks to: https://github.com/justmarkham for sharing the dataset and materials.\n",
        "\n",
        "### Step 1. Import the necessary libraries"
      ]
    },
    {
      "cell_type": "code",
      "execution_count": 76,
      "metadata": {
        "colab": {
          "base_uri": "https://localhost:8080/"
        },
        "id": "33Qt9otkhCuh",
        "outputId": "5d74edf0-218d-4517-bc57-b3a0d7709223"
      },
      "outputs": [
        {
          "output_type": "stream",
          "name": "stdout",
          "text": [
            "3.5.1\n"
          ]
        }
      ],
      "source": [
        "import pyspark\n",
        "print(pyspark.__version__)"
      ]
    },
    {
      "cell_type": "code",
      "source": [
        "from pyspark.sql import SparkSession\n",
        "from pyspark.sql import functions as F\n",
        "from pyspark.sql.types import IntegerType, StringType"
      ],
      "metadata": {
        "collapsed": true,
        "id": "A5HHcZ_ChM8M"
      },
      "execution_count": 77,
      "outputs": []
    },
    {
      "cell_type": "markdown",
      "metadata": {
        "id": "pAwCq3q7hCuh"
      },
      "source": [
        "### Step 2. Import the dataset from this [address](https://raw.githubusercontent.com/justmarkham/DAT8/master/data/chipotle.tsv)."
      ]
    },
    {
      "cell_type": "code",
      "source": [
        "raw_data_url = 'https://raw.githubusercontent.com/justmarkham/DAT8/master/data/chipotle.tsv'"
      ],
      "metadata": {
        "id": "59ifUaLJhPD-"
      },
      "execution_count": 78,
      "outputs": []
    },
    {
      "cell_type": "markdown",
      "metadata": {
        "id": "tr8JV-KchCui"
      },
      "source": [
        "### Step 3. Assign it to a variable called chipo."
      ]
    },
    {
      "cell_type": "code",
      "execution_count": 79,
      "metadata": {
        "id": "ovWV38GGhCui"
      },
      "outputs": [],
      "source": [
        "import requests\n",
        "\n",
        "response = requests.get(raw_data_url)\n",
        "with open('chipotle.tsv', 'wb') as f:\n",
        "    f.write(response.content)"
      ]
    },
    {
      "cell_type": "code",
      "source": [
        "spark = SparkSession.builder.appName('ChipotleAnalysis').getOrCreate()\n",
        "chipo = spark.read.csv('chipotle.tsv', sep='\\t', header=True, inferSchema=True)"
      ],
      "metadata": {
        "id": "ywJ6MEO6hzvf"
      },
      "execution_count": 80,
      "outputs": []
    },
    {
      "cell_type": "markdown",
      "metadata": {
        "id": "-s57jM9thCui"
      },
      "source": [
        "### Step 4. See the first 10 entries"
      ]
    },
    {
      "cell_type": "code",
      "source": [
        "chipo.show(10)"
      ],
      "metadata": {
        "colab": {
          "base_uri": "https://localhost:8080/"
        },
        "id": "b-J_enCJjgbu",
        "outputId": "95093aec-1e19-4733-afb3-9029c28b2af2"
      },
      "execution_count": 81,
      "outputs": [
        {
          "output_type": "stream",
          "name": "stdout",
          "text": [
            "+--------+--------+--------------------+--------------------+----------+\n",
            "|order_id|quantity|           item_name|  choice_description|item_price|\n",
            "+--------+--------+--------------------+--------------------+----------+\n",
            "|       1|       1|Chips and Fresh T...|                NULL|    $2.39 |\n",
            "|       1|       1|                Izze|        [Clementine]|    $3.39 |\n",
            "|       1|       1|    Nantucket Nectar|             [Apple]|    $3.39 |\n",
            "|       1|       1|Chips and Tomatil...|                NULL|    $2.39 |\n",
            "|       2|       2|        Chicken Bowl|[Tomatillo-Red Ch...|   $16.98 |\n",
            "|       3|       1|        Chicken Bowl|[Fresh Tomato Sal...|   $10.98 |\n",
            "|       3|       1|       Side of Chips|                NULL|    $1.69 |\n",
            "|       4|       1|       Steak Burrito|[Tomatillo Red Ch...|   $11.75 |\n",
            "|       4|       1|    Steak Soft Tacos|[Tomatillo Green ...|    $9.25 |\n",
            "|       5|       1|       Steak Burrito|[Fresh Tomato Sal...|    $9.25 |\n",
            "+--------+--------+--------------------+--------------------+----------+\n",
            "only showing top 10 rows\n",
            "\n"
          ]
        }
      ]
    },
    {
      "cell_type": "markdown",
      "metadata": {
        "id": "FuRQUF2NhCuj"
      },
      "source": [
        "### Step 5. What is the number of observations in the dataset?"
      ]
    },
    {
      "cell_type": "code",
      "execution_count": 82,
      "metadata": {
        "colab": {
          "base_uri": "https://localhost:8080/"
        },
        "id": "eTJEOxcDhCuk",
        "outputId": "40b2d59b-56c1-41f4-e96f-5d46d810b4e4"
      },
      "outputs": [
        {
          "output_type": "stream",
          "name": "stdout",
          "text": [
            "Row count : 4622\n"
          ]
        }
      ],
      "source": [
        "print('Row count :', chipo.count())"
      ]
    },
    {
      "cell_type": "markdown",
      "metadata": {
        "id": "2JGeB2yWhCuk"
      },
      "source": [
        "### Step 6. What is the number of columns in the dataset?"
      ]
    },
    {
      "cell_type": "code",
      "execution_count": 83,
      "metadata": {
        "colab": {
          "base_uri": "https://localhost:8080/"
        },
        "id": "qNkkIA6WhCuk",
        "outputId": "1bc7e9e0-0f14-4ae3-a24b-62b518bec434"
      },
      "outputs": [
        {
          "output_type": "stream",
          "name": "stdout",
          "text": [
            "Column count : 5\n"
          ]
        }
      ],
      "source": [
        "print('Column count :', len(chipo.columns))"
      ]
    },
    {
      "cell_type": "markdown",
      "metadata": {
        "id": "qM5QTQohhCuk"
      },
      "source": [
        "### Step 7. Print the name of all the columns."
      ]
    },
    {
      "cell_type": "code",
      "execution_count": 84,
      "metadata": {
        "colab": {
          "base_uri": "https://localhost:8080/"
        },
        "id": "DpPAeZ-mhCul",
        "outputId": "fc1c2cb9-3e79-484a-8571-d6237f25e528"
      },
      "outputs": [
        {
          "output_type": "execute_result",
          "data": {
            "text/plain": [
              "['order_id', 'quantity', 'item_name', 'choice_description', 'item_price']"
            ]
          },
          "metadata": {},
          "execution_count": 84
        }
      ],
      "source": [
        "chipo.columns"
      ]
    },
    {
      "cell_type": "markdown",
      "metadata": {
        "id": "nx6y8nSFhCul"
      },
      "source": [
        "### Step 8. How is the dataset indexed?"
      ]
    },
    {
      "cell_type": "code",
      "execution_count": 85,
      "metadata": {
        "id": "elM0T7kohCul"
      },
      "outputs": [],
      "source": [
        "# NA in pyspark"
      ]
    },
    {
      "cell_type": "markdown",
      "metadata": {
        "id": "JBqsy0kShCul"
      },
      "source": [
        "### Step 9. Which was the most-ordered item?"
      ]
    },
    {
      "cell_type": "code",
      "metadata": {
        "colab": {
          "base_uri": "https://localhost:8080/"
        },
        "id": "fd45a679",
        "outputId": "142c9844-4693-4a3f-f96a-9b24f6f4e4d9"
      },
      "source": [
        "chipo.groupBy('item_name').agg({\"quantity\":\"sum\"}).orderBy('sum(quantity)', ascending=False).show(1)"
      ],
      "execution_count": 86,
      "outputs": [
        {
          "output_type": "stream",
          "name": "stdout",
          "text": [
            "+------------+-------------+\n",
            "|   item_name|sum(quantity)|\n",
            "+------------+-------------+\n",
            "|Chicken Bowl|          761|\n",
            "+------------+-------------+\n",
            "only showing top 1 row\n",
            "\n"
          ]
        }
      ]
    },
    {
      "cell_type": "markdown",
      "metadata": {
        "id": "-ctLdLs7hCul"
      },
      "source": [
        "### Step 10. For the most-ordered item, how many items were ordered?"
      ]
    },
    {
      "cell_type": "code",
      "metadata": {
        "colab": {
          "base_uri": "https://localhost:8080/"
        },
        "id": "8fb817af",
        "outputId": "8cd94790-fd12-4533-8e34-84d8d913316e"
      },
      "source": [
        "chipo.groupBy('item_name').agg({\"quantity\":\"sum\"}).orderBy('sum(quantity)', ascending=False).select('sum(quantity)').show(1)"
      ],
      "execution_count": 87,
      "outputs": [
        {
          "output_type": "stream",
          "name": "stdout",
          "text": [
            "+-------------+\n",
            "|sum(quantity)|\n",
            "+-------------+\n",
            "|          761|\n",
            "+-------------+\n",
            "only showing top 1 row\n",
            "\n"
          ]
        }
      ]
    },
    {
      "cell_type": "markdown",
      "metadata": {
        "id": "HcUsuzaThCul"
      },
      "source": [
        "### Step 11. What was the most ordered item in the choice_description column?"
      ]
    },
    {
      "cell_type": "code",
      "execution_count": 88,
      "metadata": {
        "colab": {
          "base_uri": "https://localhost:8080/"
        },
        "id": "ilpEjbkGhCul",
        "outputId": "3ea20d81-5d88-4b4b-918d-15b52d46dea7"
      },
      "outputs": [
        {
          "output_type": "stream",
          "name": "stdout",
          "text": [
            "+------------------+-------------+\n",
            "|choice_description|sum(quantity)|\n",
            "+------------------+-------------+\n",
            "|              NULL|         1382|\n",
            "|       [Diet Coke]|          159|\n",
            "+------------------+-------------+\n",
            "only showing top 2 rows\n",
            "\n"
          ]
        }
      ],
      "source": [
        "chipo.groupBy('choice_description').agg({\"quantity\":\"sum\"}).orderBy('sum(quantity)', ascending=False).show(2)"
      ]
    },
    {
      "cell_type": "markdown",
      "metadata": {
        "id": "n3fZ0DHxhCum"
      },
      "source": [
        "### Step 12. How many items were orderd in total?"
      ]
    },
    {
      "cell_type": "code",
      "execution_count": 89,
      "metadata": {
        "colab": {
          "base_uri": "https://localhost:8080/"
        },
        "id": "b6vAlIRJhCum",
        "outputId": "0f6acb88-977b-47f8-8b8d-5352204e325e"
      },
      "outputs": [
        {
          "output_type": "stream",
          "name": "stdout",
          "text": [
            "+-------------+\n",
            "|sum(quantity)|\n",
            "+-------------+\n",
            "|         4972|\n",
            "+-------------+\n",
            "\n"
          ]
        }
      ],
      "source": [
        "chipo.agg({\"quantity\":\"sum\"}).show()"
      ]
    },
    {
      "cell_type": "markdown",
      "metadata": {
        "id": "dMgiwnO3hCum"
      },
      "source": [
        "### Step 13. Turn the item price into a float"
      ]
    },
    {
      "cell_type": "markdown",
      "metadata": {
        "id": "Yj0HvTtehCum"
      },
      "source": [
        "#### Step 13.a. Check the item price type"
      ]
    },
    {
      "cell_type": "code",
      "execution_count": 92,
      "metadata": {
        "colab": {
          "base_uri": "https://localhost:8080/"
        },
        "id": "TYLJTraLhCum",
        "outputId": "28b1c8ee-2e68-4f3a-86db-51e2a152f74e"
      },
      "outputs": [
        {
          "output_type": "stream",
          "name": "stdout",
          "text": [
            "root\n",
            " |-- order_id: integer (nullable = true)\n",
            " |-- quantity: integer (nullable = true)\n",
            " |-- item_name: string (nullable = true)\n",
            " |-- choice_description: string (nullable = true)\n",
            " |-- item_price: string (nullable = true)\n",
            "\n"
          ]
        }
      ],
      "source": [
        "chipo.printSchema()"
      ]
    },
    {
      "cell_type": "markdown",
      "metadata": {
        "id": "wXvw6MkBhCum"
      },
      "source": [
        "#### Step 13.b. Create a lambda function and change the type of item price"
      ]
    },
    {
      "cell_type": "code",
      "execution_count": 96,
      "metadata": {
        "collapsed": true,
        "colab": {
          "base_uri": "https://localhost:8080/"
        },
        "id": "CX_BN5CzhCum",
        "outputId": "896a492e-e0fa-4b82-d109-17832978bee2"
      },
      "outputs": [
        {
          "output_type": "stream",
          "name": "stdout",
          "text": [
            "root\n",
            " |-- order_id: integer (nullable = true)\n",
            " |-- quantity: integer (nullable = true)\n",
            " |-- item_name: string (nullable = true)\n",
            " |-- choice_description: string (nullable = true)\n",
            " |-- item_price: float (nullable = true)\n",
            "\n"
          ]
        }
      ],
      "source": [
        "chipo = chipo.withColumn('item_price', F.regexp_replace('item_price', '$', '').cast('float'))\n",
        "chipo.printSchema()"
      ]
    },
    {
      "cell_type": "markdown",
      "metadata": {
        "id": "WlOdQs3vhCum"
      },
      "source": [
        "#### Step 13.c. Check the item price type"
      ]
    },
    {
      "cell_type": "code",
      "execution_count": 97,
      "metadata": {
        "colab": {
          "base_uri": "https://localhost:8080/"
        },
        "id": "5gQumxX8hCum",
        "outputId": "e5a6aea3-0858-4363-8e3d-4d0572e6cc9c"
      },
      "outputs": [
        {
          "output_type": "stream",
          "name": "stdout",
          "text": [
            "root\n",
            " |-- order_id: integer (nullable = true)\n",
            " |-- quantity: integer (nullable = true)\n",
            " |-- item_name: string (nullable = true)\n",
            " |-- choice_description: string (nullable = true)\n",
            " |-- item_price: float (nullable = true)\n",
            "\n"
          ]
        }
      ],
      "source": [
        "chipo.printSchema()"
      ]
    },
    {
      "cell_type": "markdown",
      "metadata": {
        "id": "KsDmbYxVhCum"
      },
      "source": [
        "### Step 14. How much was the revenue for the period in the dataset?"
      ]
    },
    {
      "cell_type": "code",
      "execution_count": 99,
      "metadata": {
        "colab": {
          "base_uri": "https://localhost:8080/"
        },
        "id": "ZKu6j1tRhCum",
        "outputId": "29cc8469-af42-4615-c94d-a2a3980cf572"
      },
      "outputs": [
        {
          "output_type": "stream",
          "name": "stdout",
          "text": [
            "+------------------+\n",
            "|   sum(item_price)|\n",
            "+------------------+\n",
            "|34500.159754514694|\n",
            "+------------------+\n",
            "\n"
          ]
        }
      ],
      "source": [
        "chipo.agg({'item_price':'sum'}).show()"
      ]
    },
    {
      "cell_type": "markdown",
      "metadata": {
        "id": "jMlxRU81hCum"
      },
      "source": [
        "### Step 15. How many orders were made in the period?"
      ]
    },
    {
      "cell_type": "code",
      "execution_count": 100,
      "metadata": {
        "colab": {
          "base_uri": "https://localhost:8080/"
        },
        "id": "Wq5ocR9EhCum",
        "outputId": "21fb141c-027d-4d00-c197-2dce2ceebfad"
      },
      "outputs": [
        {
          "output_type": "execute_result",
          "data": {
            "text/plain": [
              "1834"
            ]
          },
          "metadata": {},
          "execution_count": 100
        }
      ],
      "source": [
        "chipo.select('order_id').distinct().count()"
      ]
    },
    {
      "cell_type": "markdown",
      "metadata": {
        "id": "0tfxi_RfhCun"
      },
      "source": [
        "### Step 16. What is the average revenue amount per order?"
      ]
    },
    {
      "cell_type": "code",
      "execution_count": 105,
      "metadata": {
        "colab": {
          "base_uri": "https://localhost:8080/"
        },
        "id": "J4_cRSY3hCun",
        "outputId": "6167a0f5-1dfd-4db8-996d-33c180045de2"
      },
      "outputs": [
        {
          "output_type": "stream",
          "name": "stdout",
          "text": [
            "+--------+--------------+\n",
            "|order_id|avg_item_price|\n",
            "+--------+--------------+\n",
            "|       1|          2.89|\n",
            "|       2|         16.98|\n",
            "|       3|          6.33|\n",
            "|       4|          10.5|\n",
            "|       5|          6.85|\n",
            "|       6|          8.75|\n",
            "|       7|          7.85|\n",
            "|       8|          5.44|\n",
            "|       9|          5.33|\n",
            "|      10|           6.6|\n",
            "|      11|          6.19|\n",
            "|      12|          7.18|\n",
            "|      13|          5.44|\n",
            "|      14|          5.04|\n",
            "|      15|          5.44|\n",
            "|      16|          5.34|\n",
            "|      17|          5.04|\n",
            "|      18|          6.22|\n",
            "|      19|          6.95|\n",
            "|      20|          9.05|\n",
            "+--------+--------------+\n",
            "only showing top 20 rows\n",
            "\n"
          ]
        }
      ],
      "source": [
        "chipo.groupBy('order_id').agg(F.round(F.avg('item_price'), 2).alias('avg_item_price')).orderBy('order_id').show()"
      ]
    },
    {
      "cell_type": "markdown",
      "metadata": {
        "id": "ydLNVBqhhCuq"
      },
      "source": [
        "### Step 17. How many different items are sold?"
      ]
    },
    {
      "cell_type": "code",
      "metadata": {
        "colab": {
          "base_uri": "https://localhost:8080/"
        },
        "id": "049158fb",
        "outputId": "d08dd4f9-b1eb-49b5-a6da-734fd6b5cf86"
      },
      "source": [
        "chipo.select('item_name').distinct().count()"
      ],
      "execution_count": 106,
      "outputs": [
        {
          "output_type": "execute_result",
          "data": {
            "text/plain": [
              "50"
            ]
          },
          "metadata": {},
          "execution_count": 106
        }
      ]
    }
  ],
  "metadata": {
    "anaconda-cloud": {},
    "kernelspec": {
      "display_name": "Python [default]",
      "language": "python",
      "name": "python2"
    },
    "language_info": {
      "codemirror_mode": {
        "name": "ipython",
        "version": 2
      },
      "file_extension": ".py",
      "mimetype": "text/x-python",
      "name": "python",
      "nbconvert_exporter": "python",
      "pygments_lexer": "ipython2",
      "version": "2.7.12"
    },
    "colab": {
      "provenance": []
    }
  },
  "nbformat": 4,
  "nbformat_minor": 0
}